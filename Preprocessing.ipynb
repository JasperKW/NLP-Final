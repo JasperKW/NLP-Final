{
 "cells": [
  {
   "cell_type": "markdown",
   "metadata": {},
   "source": [
    "# For commensense data, transfer CSV to .jsonl"
   ]
  },
  {
   "cell_type": "code",
   "execution_count": 111,
   "metadata": {},
   "outputs": [
    {
     "name": "stdout",
     "output_type": "stream",
     "text": [
      "JSONL file written to /Users/jasperwang/Desktop/NLP/Final Materials/ethics/commonsense/cm_train.jsonl\n"
     ]
    }
   ],
   "source": [
    "import pandas as pd\n",
    "import json\n",
    "import copy\n",
    "\n",
    "# Path to your cm_test.csv file\n",
    "file_path = '/Users/jasperwang/Desktop/NLP/Final Materials/ethics/commonsense/cm_train.csv'\n",
    "output_path = '/Users/jasperwang/Desktop/NLP/Final Materials/ethics/commonsense/cm_train.jsonl'\n",
    "# Load the CSV file\n",
    "cm_train = pd.read_csv(file_path)\n",
    "# Define the base structure for the JSONL format\n",
    "data_dict = cm_train.to_dict(orient='records')\n",
    "\n",
    "base_structure = {\"messages\":[{\"role\": \"system\", \"content\": \"This model detect whether this is sentence is commonsense or not.\"},{\"role\": \"user\", \"content\": \"\"},{\"role\": \"assistant\", \"content\": \"\"}]}\n",
    "\n",
    "# Prepare the data for conversion\n",
    "jsonl_data = []\n",
    "for record in data_dict:\n",
    "    user_content = str(record.get('input', \"\")).strip()\n",
    "    assistant_content = str(record.get('label', \"\")).strip()\n",
    "\n",
    "    # Create a JSON entry\n",
    "    entry = copy.deepcopy(base_structure)\n",
    "    entry[\"messages\"][1][\"content\"] = user_content\n",
    "    entry[\"messages\"][2][\"content\"] = assistant_content\n",
    "    jsonl_data.append(entry)\n",
    "\n",
    "# Print preview of the first 3 entries\n",
    "with open(output_path, 'w') as jsonl_file:\n",
    "    for index, entry in enumerate(jsonl_data, start=1):\n",
    "        # Create a deep copy of the entry before modifying or writing\n",
    "        entry_copy = copy.deepcopy(entry)\n",
    "\n",
    "        # Debug: Print the entry before writing\n",
    "        #print(f\"{entry_copy}\")\n",
    "\n",
    "        # Write to JSONL file\n",
    "        jsonl_file.write(json.dumps(entry_copy, indent=4) + '\\n')\n",
    "\n",
    "print(f\"JSONL file written to {output_path}\")"
   ]
  },
  {
   "cell_type": "code",
   "execution_count": 122,
   "metadata": {},
   "outputs": [
    {
     "name": "stdout",
     "output_type": "stream",
     "text": [
      "JSONL file written to /Users/jasperwang/Desktop/NLP/Final Materials/ethics/commonsense/cm_test.jsonl\n"
     ]
    }
   ],
   "source": [
    "import pandas as pd\n",
    "import json\n",
    "import copy\n",
    "file_path = '/Users/jasperwang/Desktop/NLP/Final Materials/ethics/commonsense/cm_test.csv'\n",
    "output_path = '/Users/jasperwang/Desktop/NLP/Final Materials/ethics/commonsense/cm_test.jsonl'\n",
    "# Load the CSV file\n",
    "cm_test = pd.read_csv(file_path)\n",
    "# Define the base structure for the JSONL format\n",
    "data_dict_test = cm_test.to_dict(orient='records')\n",
    "\n",
    "base_structure = {\n",
    "    \"messages\": [\n",
    "        {\"role\": \"system\", \"content\": \"This model detect whether this is sentence is commonsense or not.\"},\n",
    "        {\"role\": \"user\", \"content\": \"\"},\n",
    "        {\"role\": \"assistant\", \"content\": \"\"}\n",
    "    ]\n",
    "}\n",
    "\n",
    "# Prepare the data for conversion\n",
    "jsonl_data = []\n",
    "for record in data_dict_test:\n",
    "    user_content = str(record.get('input', \"\")).strip()\n",
    "    assistant_content = str(record.get('label', \"\")).strip()\n",
    "\n",
    "    # Create a JSON entry\n",
    "    entry = copy.deepcopy(base_structure)\n",
    "    entry[\"messages\"][1][\"content\"] = user_content\n",
    "    entry[\"messages\"][2][\"content\"] = assistant_content\n",
    "    jsonl_data.append(entry)\n",
    "\n",
    "# Print preview of the first 3 entries\n",
    "with open(output_path, 'w') as jsonl_file:\n",
    "    for index, entry in enumerate(jsonl_data, start=1):\n",
    "        # Create a deep copy of the entry before modifying or writing\n",
    "        entry_copy = copy.deepcopy(entry)\n",
    "\n",
    "        # Debug: Print the entry before writing\n",
    "        #print(f\"{entry_copy}\")\n",
    "\n",
    "        # Write to JSONL file\n",
    "        jsonl_file.write(json.dumps(entry_copy, indent=4) + '\\n')\n",
    "\n",
    "print(f\"JSONL file written to {output_path}\")"
   ]
  },
  {
   "cell_type": "code",
   "execution_count": 2,
   "metadata": {},
   "outputs": [
    {
     "name": "stdout",
     "output_type": "stream",
     "text": [
      "JSONL file written to /Users/jasperwang/Desktop/NLP/Final Materials/ethics/commonsense/cm_test_hard.jsonl\n"
     ]
    }
   ],
   "source": [
    "import pandas as pd\n",
    "import json\n",
    "import copy\n",
    "file_path = '/Users/jasperwang/Desktop/NLP/Final Materials/ethics/commonsense/cm_test_hard.csv'\n",
    "output_path = '/Users/jasperwang/Desktop/NLP/Final Materials/ethics/commonsense/cm_test_hard.jsonl'\n",
    "# Load the CSV file\n",
    "cm_test = pd.read_csv(file_path)\n",
    "# Define the base structure for the JSONL format\n",
    "data_dict_test = cm_test.to_dict(orient='records')\n",
    "\n",
    "base_structure = {\n",
    "    \"messages\": [\n",
    "        {\"role\": \"system\", \"content\": \"This model detect whether this is sentence is commonsense or not.\"},\n",
    "        {\"role\": \"user\", \"content\": \"\"},\n",
    "        {\"role\": \"assistant\", \"content\": \"\"}\n",
    "    ]\n",
    "}\n",
    "\n",
    "# Prepare the data for conversion\n",
    "jsonl_data = []\n",
    "for record in data_dict_test:\n",
    "    user_content = str(record.get('input', \"\")).strip()\n",
    "    assistant_content = str(record.get('label', \"\")).strip()\n",
    "\n",
    "    # Create a JSON entry\n",
    "    entry = copy.deepcopy(base_structure)\n",
    "    entry[\"messages\"][1][\"content\"] = user_content\n",
    "    entry[\"messages\"][2][\"content\"] = assistant_content\n",
    "    jsonl_data.append(entry)\n",
    "\n",
    "# Print preview of the first 3 entries\n",
    "with open(output_path, 'w') as jsonl_file:\n",
    "    for index, entry in enumerate(jsonl_data, start=1):\n",
    "        # Create a deep copy of the entry before modifying or writing\n",
    "        entry_copy = copy.deepcopy(entry)\n",
    "\n",
    "        # Debug: Print the entry before writing\n",
    "        #print(f\"{entry_copy}\")\n",
    "\n",
    "        # Write to JSONL file\n",
    "        jsonl_file.write(json.dumps(entry_copy, indent=4) + '\\n')\n",
    "\n",
    "print(f\"JSONL file written to {output_path}\")"
   ]
  },
  {
   "cell_type": "markdown",
   "metadata": {},
   "source": [
    "## Reformat the Data"
   ]
  },
  {
   "cell_type": "markdown",
   "metadata": {},
   "source": [
    "### Train data"
   ]
  },
  {
   "cell_type": "code",
   "execution_count": 129,
   "metadata": {},
   "outputs": [],
   "source": [
    "def reformat_to_single_line_json(file_path, output_path):\n",
    "    \"\"\"\n",
    "    Reads a JSONL file, combines lines to form complete JSON objects, and writes each object as a single line.\n",
    "    \"\"\"\n",
    "    with open(file_path, 'r', encoding='utf-8') as infile, open(output_path, 'w', encoding='utf-8') as outfile:\n",
    "        complete_json = ''\n",
    "        brace_count = 0  # To track open and close braces\n",
    "        for line in infile:\n",
    "            stripped_line = line.strip()\n",
    "            complete_json += stripped_line\n",
    "            brace_count += stripped_line.count('{') - stripped_line.count('}')\n",
    "            if brace_count == 0 and complete_json:\n",
    "                # When brace_count is zero, we have a complete JSON object\n",
    "                outfile.write(complete_json + '\\n')\n",
    "                complete_json = ''  # Reset for the next JSON object\n",
    "\n",
    "# Paths for output files\n",
    "train_file_path = '/Users/jasperwang/Desktop/NLP/Final Materials/ethics/commonsense/cm_train.jsonl'\n",
    "train_output_path = '/Users/jasperwang/Desktop/NLP/Final Materials/ethics/commonsense/train_data.jsonl'\n",
    "\n",
    "# Apply the reformatting function\n",
    "reformat_to_single_line_json(train_file_path, train_output_path)"
   ]
  },
  {
   "cell_type": "markdown",
   "metadata": {},
   "source": [
    "### Test data"
   ]
  },
  {
   "cell_type": "code",
   "execution_count": 128,
   "metadata": {},
   "outputs": [
    {
     "data": {
      "text/plain": [
       "'/Users/jasperwang/Desktop/NLP/Final Materials/ethics/commonsense/test_data.jsonl'"
      ]
     },
     "execution_count": 128,
     "metadata": {},
     "output_type": "execute_result"
    }
   ],
   "source": [
    "def consolidate_and_fix_jsonl(file_path):\n",
    "    consolidated_data = []\n",
    "    current_json = \"\"\n",
    "    brace_count = 0  # To track the opening and closing of JSON objects\n",
    "\n",
    "    with open(file_path, 'r', encoding='utf-8') as file:\n",
    "        for line in file:\n",
    "            stripped_line = line.strip()\n",
    "            current_json += stripped_line\n",
    "            brace_count += stripped_line.count('{') - stripped_line.count('}')\n",
    "            # If brace_count returns to zero, we assume the JSON object is complete\n",
    "            if brace_count == 0 and current_json:\n",
    "                try:\n",
    "                    # Try parsing the complete JSON string\n",
    "                    json_object = json.loads(current_json)\n",
    "                    consolidated_data.append(json_object)\n",
    "                    current_json = \"\"  # Reset for the next object\n",
    "                except json.JSONDecodeError:\n",
    "                    # If an error occurs, continue accumulating lines\n",
    "                    continue\n",
    "    return consolidated_data\n",
    "\n",
    "# Correct the data\n",
    "test_file_path = '/Users/jasperwang/Desktop/NLP/Final Materials/ethics/commonsense/cm_test.jsonl'\n",
    "corrected_cm_test_data = consolidate_and_fix_jsonl(test_file_path)\n",
    "\n",
    "# Check the first few entries to verify correction\n",
    "corrected_cm_test_data[:3]\n",
    "\n",
    "def write_jsonl_data(data, output_file_path):\n",
    "    with open(output_file_path, 'w', encoding='utf-8') as outfile:\n",
    "        for item in data:\n",
    "            # Convert the Python dictionary to a JSON string and write it to the file\n",
    "            json.dump(item, outfile)\n",
    "            outfile.write('\\n')  # New line for each JSON object\n",
    "\n",
    "# Specify the path for the new file\n",
    "output_file_path = '/Users/jasperwang/Desktop/NLP/Final Materials/ethics/commonsense/test_data.jsonl'\n",
    "\n",
    "# Write the corrected data to the new file\n",
    "write_jsonl_data(corrected_cm_test_data, output_file_path)\n",
    "\n",
    "# Confirm the operation completed successfully by providing the path\n",
    "output_file_path"
   ]
  },
  {
   "cell_type": "markdown",
   "metadata": {},
   "source": [
    "### Test_hard data"
   ]
  },
  {
   "cell_type": "code",
   "execution_count": 3,
   "metadata": {},
   "outputs": [
    {
     "data": {
      "text/plain": [
       "'/Users/jasperwang/Desktop/NLP/Final Materials/ethics/commonsense/test_hard_data.jsonl'"
      ]
     },
     "execution_count": 3,
     "metadata": {},
     "output_type": "execute_result"
    }
   ],
   "source": [
    "def consolidate_and_fix_jsonl(file_path):\n",
    "    consolidated_data = []\n",
    "    current_json = \"\"\n",
    "    brace_count = 0  # To track the opening and closing of JSON objects\n",
    "\n",
    "    with open(file_path, 'r', encoding='utf-8') as file:\n",
    "        for line in file:\n",
    "            stripped_line = line.strip()\n",
    "            current_json += stripped_line\n",
    "            brace_count += stripped_line.count('{') - stripped_line.count('}')\n",
    "            # If brace_count returns to zero, we assume the JSON object is complete\n",
    "            if brace_count == 0 and current_json:\n",
    "                try:\n",
    "                    # Try parsing the complete JSON string\n",
    "                    json_object = json.loads(current_json)\n",
    "                    consolidated_data.append(json_object)\n",
    "                    current_json = \"\"  # Reset for the next object\n",
    "                except json.JSONDecodeError:\n",
    "                    # If an error occurs, continue accumulating lines\n",
    "                    continue\n",
    "    return consolidated_data\n",
    "\n",
    "# Correct the data\n",
    "test_file_path = '/Users/jasperwang/Desktop/NLP/Final Materials/ethics/commonsense/cm_test_hard.jsonl'\n",
    "corrected_cm_test_data = consolidate_and_fix_jsonl(test_file_path)\n",
    "\n",
    "# Check the first few entries to verify correction\n",
    "corrected_cm_test_data[:3]\n",
    "\n",
    "def write_jsonl_data(data, output_file_path):\n",
    "    with open(output_file_path, 'w', encoding='utf-8') as outfile:\n",
    "        for item in data:\n",
    "            # Convert the Python dictionary to a JSON string and write it to the file\n",
    "            json.dump(item, outfile)\n",
    "            outfile.write('\\n')  # New line for each JSON object\n",
    "\n",
    "# Specify the path for the new file\n",
    "output_file_path = '/Users/jasperwang/Desktop/NLP/Final Materials/ethics/commonsense/test_hard_data.jsonl'\n",
    "\n",
    "# Write the corrected data to the new file\n",
    "write_jsonl_data(corrected_cm_test_data, output_file_path)\n",
    "\n",
    "# Confirm the operation completed successfully by providing the path\n",
    "output_file_path"
   ]
  },
  {
   "cell_type": "markdown",
   "metadata": {},
   "source": [
    "# For justice data"
   ]
  },
  {
   "cell_type": "markdown",
   "metadata": {},
   "source": [
    "## Transfer from csv to jsonl"
   ]
  },
  {
   "cell_type": "markdown",
   "metadata": {},
   "source": [
    "## Train data"
   ]
  },
  {
   "cell_type": "code",
   "execution_count": 18,
   "metadata": {},
   "outputs": [
    {
     "name": "stdout",
     "output_type": "stream",
     "text": [
      "JSONL file written to /Users/jasperwang/Desktop/NLP/Final Materials/ethics/justice/justice_train.jsonl\n"
     ]
    }
   ],
   "source": [
    "import pandas as pd\n",
    "import json\n",
    "import copy\n",
    "\n",
    "# Path to your cm_test.csv file\n",
    "file_path = '/Users/jasperwang/Desktop/NLP/Final Materials/ethics/justice/justice_train.csv'\n",
    "output_path = '/Users/jasperwang/Desktop/NLP/Final Materials/ethics/justice/justice_train.jsonl'\n",
    "# Load the CSV file\n",
    "cm_train = pd.read_csv(file_path)\n",
    "# Define the base structure for the JSONL format\n",
    "data_dict = cm_train.to_dict(orient='records')\n",
    "\n",
    "base_structure = {\"messages\":[{\"role\": \"system\", \"content\": \"This model detect whether this is sentence is justice or not.\"},{\"role\": \"user\", \"content\": \"\"},{\"role\": \"assistant\", \"content\": \"\"}]}\n",
    "\n",
    "# Prepare the data for conversion\n",
    "jsonl_data = []\n",
    "for record in data_dict:\n",
    "    user_content = str(record.get('scenario', \"\")).strip()\n",
    "    assistant_content = str(record.get('label', \"\")).strip()\n",
    "\n",
    "    # Create a JSON entry\n",
    "    entry = copy.deepcopy(base_structure)\n",
    "    entry[\"messages\"][1][\"content\"] = user_content\n",
    "    entry[\"messages\"][2][\"content\"] = assistant_content\n",
    "    jsonl_data.append(entry)\n",
    "\n",
    "# Print preview of the first 3 entries\n",
    "with open(output_path, 'w') as jsonl_file:\n",
    "    for index, entry in enumerate(jsonl_data, start=1):\n",
    "        # Create a deep copy of the entry before modifying or writing\n",
    "        entry_copy = copy.deepcopy(entry)\n",
    "\n",
    "        # Debug: Print the entry before writing\n",
    "        #print(f\"{entry_copy}\")\n",
    "\n",
    "        # Write to JSONL file\n",
    "        jsonl_file.write(json.dumps(entry_copy, indent=4) + '\\n')\n",
    "\n",
    "print(f\"JSONL file written to {output_path}\")"
   ]
  },
  {
   "cell_type": "markdown",
   "metadata": {},
   "source": [
    "## Test data"
   ]
  },
  {
   "cell_type": "code",
   "execution_count": 19,
   "metadata": {},
   "outputs": [
    {
     "name": "stdout",
     "output_type": "stream",
     "text": [
      "JSONL file written to /Users/jasperwang/Desktop/NLP/Final Materials/ethics/justice/justice_test.jsonl\n"
     ]
    }
   ],
   "source": [
    "import pandas as pd\n",
    "import json\n",
    "import copy\n",
    "\n",
    "# Path to your cm_test.csv file\n",
    "file_path = '/Users/jasperwang/Desktop/NLP/Final Materials/ethics/justice/justice_test.csv'\n",
    "output_path = '/Users/jasperwang/Desktop/NLP/Final Materials/ethics/justice/justice_test.jsonl'\n",
    "# Load the CSV file\n",
    "cm_train = pd.read_csv(file_path)\n",
    "# Define the base structure for the JSONL format\n",
    "data_dict = cm_train.to_dict(orient='records')\n",
    "\n",
    "base_structure = {\"messages\":[{\"role\": \"system\", \"content\": \"This model detect whether this is justice is commonsense or not.\"},{\"role\": \"user\", \"content\": \"\"},{\"role\": \"assistant\", \"content\": \"\"}]}\n",
    "\n",
    "# Prepare the data for conversion\n",
    "jsonl_data = []\n",
    "for record in data_dict:\n",
    "    user_content = str(record.get('scenario', \"\")).strip()\n",
    "    assistant_content = str(record.get('label', \"\")).strip()\n",
    "\n",
    "    # Create a JSON entry\n",
    "    entry = copy.deepcopy(base_structure)\n",
    "    entry[\"messages\"][1][\"content\"] = user_content\n",
    "    entry[\"messages\"][2][\"content\"] = assistant_content\n",
    "    jsonl_data.append(entry)\n",
    "\n",
    "# Print preview of the first 3 entries\n",
    "with open(output_path, 'w') as jsonl_file:\n",
    "    for index, entry in enumerate(jsonl_data, start=1):\n",
    "        # Create a deep copy of the entry before modifying or writing\n",
    "        entry_copy = copy.deepcopy(entry)\n",
    "\n",
    "        # Debug: Print the entry before writing\n",
    "        #print(f\"{entry_copy}\")\n",
    "\n",
    "        # Write to JSONL file\n",
    "        jsonl_file.write(json.dumps(entry_copy, indent=4) + '\\n')\n",
    "\n",
    "print(f\"JSONL file written to {output_path}\")"
   ]
  },
  {
   "cell_type": "markdown",
   "metadata": {},
   "source": [
    "## Test Hard data"
   ]
  },
  {
   "cell_type": "code",
   "execution_count": 20,
   "metadata": {},
   "outputs": [
    {
     "name": "stdout",
     "output_type": "stream",
     "text": [
      "JSONL file written to /Users/jasperwang/Desktop/NLP/Final Materials/ethics/justice/justice_test_hard.jsonl\n"
     ]
    }
   ],
   "source": [
    "import pandas as pd\n",
    "import json\n",
    "import copy\n",
    "\n",
    "# Path to your cm_test.csv file\n",
    "file_path = '/Users/jasperwang/Desktop/NLP/Final Materials/ethics/justice/justice_test_hard.csv'\n",
    "output_path = '/Users/jasperwang/Desktop/NLP/Final Materials/ethics/justice/justice_test_hard.jsonl'\n",
    "# Load the CSV file\n",
    "cm_train = pd.read_csv(file_path)\n",
    "# Define the base structure for the JSONL format\n",
    "data_dict = cm_train.to_dict(orient='records')\n",
    "\n",
    "base_structure = {\"messages\":[{\"role\": \"system\", \"content\": \"This model detect whether this is justice is commonsense or not.\"},{\"role\": \"user\", \"content\": \"\"},{\"role\": \"assistant\", \"content\": \"\"}]}\n",
    "\n",
    "# Prepare the data for conversion\n",
    "jsonl_data = []\n",
    "for record in data_dict:\n",
    "    user_content = str(record.get('scenario', \"\")).strip()\n",
    "    assistant_content = str(record.get('label', \"\")).strip()\n",
    "\n",
    "    # Create a JSON entry\n",
    "    entry = copy.deepcopy(base_structure)\n",
    "    entry[\"messages\"][1][\"content\"] = user_content\n",
    "    entry[\"messages\"][2][\"content\"] = assistant_content\n",
    "    jsonl_data.append(entry)\n",
    "\n",
    "# Print preview of the first 3 entries\n",
    "with open(output_path, 'w') as jsonl_file:\n",
    "    for index, entry in enumerate(jsonl_data, start=1):\n",
    "        # Create a deep copy of the entry before modifying or writing\n",
    "        entry_copy = copy.deepcopy(entry)\n",
    "\n",
    "        # Debug: Print the entry before writing\n",
    "        #print(f\"{entry_copy}\")\n",
    "\n",
    "        # Write to JSONL file\n",
    "        jsonl_file.write(json.dumps(entry_copy, indent=4) + '\\n')\n",
    "\n",
    "print(f\"JSONL file written to {output_path}\")"
   ]
  },
  {
   "cell_type": "markdown",
   "metadata": {},
   "source": [
    "## Reformat the data"
   ]
  },
  {
   "cell_type": "markdown",
   "metadata": {},
   "source": [
    "### Train"
   ]
  },
  {
   "cell_type": "code",
   "execution_count": 21,
   "metadata": {},
   "outputs": [],
   "source": [
    "def reformat_to_single_line_json(file_path, output_path):\n",
    "    \"\"\"\n",
    "    Reads a JSONL file, combines lines to form complete JSON objects, and writes each object as a single line.\n",
    "    \"\"\"\n",
    "    with open(file_path, 'r', encoding='utf-8') as infile, open(output_path, 'w', encoding='utf-8') as outfile:\n",
    "        complete_json = ''\n",
    "        brace_count = 0  # To track open and close braces\n",
    "        for line in infile:\n",
    "            stripped_line = line.strip()\n",
    "            complete_json += stripped_line\n",
    "            brace_count += stripped_line.count('{') - stripped_line.count('}')\n",
    "            if brace_count == 0 and complete_json:\n",
    "                # When brace_count is zero, we have a complete JSON object\n",
    "                outfile.write(complete_json + '\\n')\n",
    "                complete_json = ''  # Reset for the next JSON object\n",
    "\n",
    "# Paths for output files\n",
    "train_file_path = '/Users/jasperwang/Desktop/NLP/Final Materials/ethics/justice/justice_train.jsonl'\n",
    "train_output_path = '/Users/jasperwang/Desktop/NLP/Final Materials/ethics/justice/train_data.jsonl'\n",
    "\n",
    "# Apply the reformatting function\n",
    "reformat_to_single_line_json(train_file_path, train_output_path)"
   ]
  },
  {
   "cell_type": "markdown",
   "metadata": {},
   "source": [
    "### Test"
   ]
  },
  {
   "cell_type": "code",
   "execution_count": 24,
   "metadata": {},
   "outputs": [],
   "source": [
    "def reformat_to_single_line_json(file_path, output_path):\n",
    "    \"\"\"\n",
    "    Reads a JSONL file, combines lines to form complete JSON objects, and writes each object as a single line.\n",
    "    \"\"\"\n",
    "    with open(file_path, 'r', encoding='utf-8') as infile, open(output_path, 'w', encoding='utf-8') as outfile:\n",
    "        complete_json = ''\n",
    "        brace_count = 0  # To track open and close braces\n",
    "        for line in infile:\n",
    "            stripped_line = line.strip()\n",
    "            complete_json += stripped_line\n",
    "            brace_count += stripped_line.count('{') - stripped_line.count('}')\n",
    "            if brace_count == 0 and complete_json:\n",
    "                # When brace_count is zero, we have a complete JSON object\n",
    "                outfile.write(complete_json + '\\n')\n",
    "                complete_json = ''  # Reset for the next JSON object\n",
    "\n",
    "# Paths for output files\n",
    "train_file_path = '/Users/jasperwang/Desktop/NLP/Final Materials/ethics/justice/justice_test.jsonl'\n",
    "train_output_path = '/Users/jasperwang/Desktop/NLP/Final Materials/ethics/justice/test_data.jsonl'\n",
    "\n",
    "# Apply the reformatting function\n",
    "reformat_to_single_line_json(train_file_path, train_output_path)"
   ]
  },
  {
   "cell_type": "markdown",
   "metadata": {},
   "source": [
    "### Test Hard Data"
   ]
  },
  {
   "cell_type": "code",
   "execution_count": 26,
   "metadata": {},
   "outputs": [],
   "source": [
    "def reformat_to_single_line_json(file_path, output_path):\n",
    "    \"\"\"\n",
    "    Reads a JSONL file, combines lines to form complete JSON objects, and writes each object as a single line.\n",
    "    \"\"\"\n",
    "    with open(file_path, 'r', encoding='utf-8') as infile, open(output_path, 'w', encoding='utf-8') as outfile:\n",
    "        complete_json = ''\n",
    "        brace_count = 0  # To track open and close braces\n",
    "        for line in infile:\n",
    "            stripped_line = line.strip()\n",
    "            complete_json += stripped_line\n",
    "            brace_count += stripped_line.count('{') - stripped_line.count('}')\n",
    "            if brace_count == 0 and complete_json:\n",
    "                # When brace_count is zero, we have a complete JSON object\n",
    "                outfile.write(complete_json + '\\n')\n",
    "                complete_json = ''  # Reset for the next JSON object\n",
    "\n",
    "# Paths for output files\n",
    "train_file_path = '/Users/jasperwang/Desktop/NLP/Final Materials/ethics/justice/justice_test.jsonl'\n",
    "train_output_path = '/Users/jasperwang/Desktop/NLP/Final Materials/ethics/justice/test_hard_data.jsonl'\n",
    "\n",
    "# Apply the reformatting function\n",
    "reformat_to_single_line_json(train_file_path, train_output_path)"
   ]
  },
  {
   "cell_type": "markdown",
   "metadata": {},
   "source": [
    "# Virtue Data"
   ]
  },
  {
   "cell_type": "markdown",
   "metadata": {},
   "source": [
    "## Transform from csv to jsonl data"
   ]
  },
  {
   "cell_type": "markdown",
   "metadata": {},
   "source": [
    "### Virtue Data"
   ]
  },
  {
   "cell_type": "code",
   "execution_count": 43,
   "metadata": {},
   "outputs": [
    {
     "name": "stdout",
     "output_type": "stream",
     "text": [
      "JSONL file written to /Users/jasperwang/Desktop/NLP/Final Materials/ethics/virtue/virtue_train.jsonl\n"
     ]
    }
   ],
   "source": [
    "import pandas as pd\n",
    "import json\n",
    "import copy\n",
    "\n",
    "# Path to your cm_test.csv file\n",
    "file_path = '/Users/jasperwang/Desktop/NLP/Final Materials/ethics/virtue/virtue_train.csv'\n",
    "output_path = '/Users/jasperwang/Desktop/NLP/Final Materials/ethics/virtue/virtue_train.jsonl'\n",
    "# Load the CSV file\n",
    "cm_train = pd.read_csv(file_path)\n",
    "# Define the base structure for the JSONL format\n",
    "data_dict = cm_train.to_dict(orient='records')\n",
    "\n",
    "base_structure = {\"messages\":[{\"role\": \"system\", \"content\": \"This model detect whether this is sentence is of virtue or not.\"},{\"role\": \"user\", \"content\": \"\"},{\"role\": \"assistant\", \"content\": \"\"}]}\n",
    "\n",
    "# Prepare the data for conversion\n",
    "jsonl_data = []\n",
    "for record in data_dict:\n",
    "    user_content = str(record.get('scenario', \"\")).strip()\n",
    "    assistant_content = str(record.get('label', \"\")).strip()\n",
    "\n",
    "    # Create a JSON entry\n",
    "    entry = copy.deepcopy(base_structure)\n",
    "    entry[\"messages\"][1][\"content\"] = user_content\n",
    "    entry[\"messages\"][2][\"content\"] = assistant_content\n",
    "    jsonl_data.append(entry)\n",
    "\n",
    "# Print preview of the first 3 entries\n",
    "with open(output_path, 'w') as jsonl_file:\n",
    "    for index, entry in enumerate(jsonl_data, start=1):\n",
    "        # Create a deep copy of the entry before modifying or writing\n",
    "        entry_copy = copy.deepcopy(entry)\n",
    "\n",
    "        # Debug: Print the entry before writing\n",
    "        #print(f\"{entry_copy}\")\n",
    "\n",
    "        # Write to JSONL file\n",
    "        jsonl_file.write(json.dumps(entry_copy, indent=4) + '\\n')\n",
    "\n",
    "print(f\"JSONL file written to {output_path}\")"
   ]
  },
  {
   "cell_type": "markdown",
   "metadata": {},
   "source": [
    "### Test data"
   ]
  },
  {
   "cell_type": "code",
   "execution_count": 44,
   "metadata": {},
   "outputs": [
    {
     "name": "stdout",
     "output_type": "stream",
     "text": [
      "JSONL file written to /Users/jasperwang/Desktop/NLP/Final Materials/ethics/virtue/virtue_test.jsonl\n"
     ]
    }
   ],
   "source": [
    "import pandas as pd\n",
    "import json\n",
    "import copy\n",
    "\n",
    "# Path to your cm_test.csv file\n",
    "file_path = '/Users/jasperwang/Desktop/NLP/Final Materials/ethics/virtue/virtue_test.csv'\n",
    "output_path = '/Users/jasperwang/Desktop/NLP/Final Materials/ethics/virtue/virtue_test.jsonl'\n",
    "# Load the CSV file\n",
    "cm_train = pd.read_csv(file_path)\n",
    "# Define the base structure for the JSONL format\n",
    "data_dict = cm_train.to_dict(orient='records')\n",
    "\n",
    "base_structure = {\"messages\":[{\"role\": \"system\", \"content\": \"This model detect whether this is sentence is of virtue or not.\"},{\"role\": \"user\", \"content\": \"\"},{\"role\": \"assistant\", \"content\": \"\"}]}\n",
    "\n",
    "# Prepare the data for conversion\n",
    "jsonl_data = []\n",
    "for record in data_dict:\n",
    "    user_content = str(record.get('scenario', \"\")).strip()\n",
    "    assistant_content = str(record.get('label', \"\")).strip()\n",
    "\n",
    "    # Create a JSON entry\n",
    "    entry = copy.deepcopy(base_structure)\n",
    "    entry[\"messages\"][1][\"content\"] = user_content\n",
    "    entry[\"messages\"][2][\"content\"] = assistant_content\n",
    "    jsonl_data.append(entry)\n",
    "\n",
    "# Print preview of the first 3 entries\n",
    "with open(output_path, 'w') as jsonl_file:\n",
    "    for index, entry in enumerate(jsonl_data, start=1):\n",
    "        # Create a deep copy of the entry before modifying or writing\n",
    "        entry_copy = copy.deepcopy(entry)\n",
    "\n",
    "        # Debug: Print the entry before writing\n",
    "        #print(f\"{entry_copy}\")\n",
    "\n",
    "        # Write to JSONL file\n",
    "        jsonl_file.write(json.dumps(entry_copy, indent=4) + '\\n')\n",
    "\n",
    "print(f\"JSONL file written to {output_path}\")"
   ]
  },
  {
   "cell_type": "markdown",
   "metadata": {},
   "source": [
    "### Test Hard Test"
   ]
  },
  {
   "cell_type": "code",
   "execution_count": 45,
   "metadata": {},
   "outputs": [
    {
     "name": "stdout",
     "output_type": "stream",
     "text": [
      "JSONL file written to /Users/jasperwang/Desktop/NLP/Final Materials/ethics/virtue/virtue_test_hard.jsonl\n"
     ]
    }
   ],
   "source": [
    "import pandas as pd\n",
    "import json\n",
    "import copy\n",
    "\n",
    "# Path to your cm_test.csv file\n",
    "file_path = '/Users/jasperwang/Desktop/NLP/Final Materials/ethics/virtue/virtue_test_hard.csv'\n",
    "output_path = '/Users/jasperwang/Desktop/NLP/Final Materials/ethics/virtue/virtue_test_hard.jsonl'\n",
    "# Load the CSV file\n",
    "cm_train = pd.read_csv(file_path)\n",
    "# Define the base structure for the JSONL format\n",
    "data_dict = cm_train.to_dict(orient='records')\n",
    "\n",
    "base_structure = {\"messages\":[{\"role\": \"system\", \"content\": \"This model detect whether this is sentence is of virtue or not.\"},{\"role\": \"user\", \"content\": \"\"},{\"role\": \"assistant\", \"content\": \"\"}]}\n",
    "\n",
    "# Prepare the data for conversion\n",
    "jsonl_data = []\n",
    "for record in data_dict:\n",
    "    user_content = str(record.get('scenario', \"\")).strip()\n",
    "    assistant_content = str(record.get('label', \"\")).strip()\n",
    "\n",
    "    # Create a JSON entry\n",
    "    entry = copy.deepcopy(base_structure)\n",
    "    entry[\"messages\"][1][\"content\"] = user_content\n",
    "    entry[\"messages\"][2][\"content\"] = assistant_content\n",
    "    jsonl_data.append(entry)\n",
    "\n",
    "# Print preview of the first 3 entries\n",
    "with open(output_path, 'w') as jsonl_file:\n",
    "    for index, entry in enumerate(jsonl_data, start=1):\n",
    "        # Create a deep copy of the entry before modifying or writing\n",
    "        entry_copy = copy.deepcopy(entry)\n",
    "\n",
    "        # Debug: Print the entry before writing\n",
    "        #print(f\"{entry_copy}\")\n",
    "\n",
    "        # Write to JSONL file\n",
    "        jsonl_file.write(json.dumps(entry_copy, indent=4) + '\\n')\n",
    "\n",
    "print(f\"JSONL file written to {output_path}\")"
   ]
  },
  {
   "cell_type": "markdown",
   "metadata": {},
   "source": [
    "## Jsonl to Reformat"
   ]
  },
  {
   "cell_type": "markdown",
   "metadata": {},
   "source": [
    "### Train"
   ]
  },
  {
   "cell_type": "code",
   "execution_count": 46,
   "metadata": {},
   "outputs": [],
   "source": [
    "def reformat_to_single_line_json(file_path, output_path):\n",
    "    \"\"\"\n",
    "    Reads a JSONL file, combines lines to form complete JSON objects, and writes each object as a single line.\n",
    "    \"\"\"\n",
    "    with open(file_path, 'r', encoding='utf-8') as infile, open(output_path, 'w', encoding='utf-8') as outfile:\n",
    "        complete_json = ''\n",
    "        brace_count = 0  # To track open and close braces\n",
    "        for line in infile:\n",
    "            stripped_line = line.strip()\n",
    "            complete_json += stripped_line\n",
    "            brace_count += stripped_line.count('{') - stripped_line.count('}')\n",
    "            if brace_count == 0 and complete_json:\n",
    "                # When brace_count is zero, we have a complete JSON object\n",
    "                outfile.write(complete_json + '\\n')\n",
    "                complete_json = ''  # Reset for the next JSON object\n",
    "\n",
    "# Paths for output files\n",
    "train_file_path = '/Users/jasperwang/Desktop/NLP/Final Materials/ethics/virtue/virtue_train.jsonl'\n",
    "train_output_path = '/Users/jasperwang/Desktop/NLP/Final Materials/ethics/virtue/train_data.jsonl'\n",
    "\n",
    "# Apply the reformatting function\n",
    "reformat_to_single_line_json(train_file_path, train_output_path)"
   ]
  },
  {
   "cell_type": "markdown",
   "metadata": {},
   "source": [
    "### Test"
   ]
  },
  {
   "cell_type": "code",
   "execution_count": 48,
   "metadata": {},
   "outputs": [],
   "source": [
    "def reformat_to_single_line_json(file_path, output_path):\n",
    "    \"\"\"\n",
    "    Reads a JSONL file, combines lines to form complete JSON objects, and writes each object as a single line.\n",
    "    \"\"\"\n",
    "    with open(file_path, 'r', encoding='utf-8') as infile, open(output_path, 'w', encoding='utf-8') as outfile:\n",
    "        complete_json = ''\n",
    "        brace_count = 0  # To track open and close braces\n",
    "        for line in infile:\n",
    "            stripped_line = line.strip()\n",
    "            complete_json += stripped_line\n",
    "            brace_count += stripped_line.count('{') - stripped_line.count('}')\n",
    "            if brace_count == 0 and complete_json:\n",
    "                # When brace_count is zero, we have a complete JSON object\n",
    "                outfile.write(complete_json + '\\n')\n",
    "                complete_json = ''  # Reset for the next JSON object\n",
    "\n",
    "# Paths for output files\n",
    "train_file_path = '/Users/jasperwang/Desktop/NLP/Final Materials/ethics/virtue/virtue_test.jsonl'\n",
    "train_output_path = '/Users/jasperwang/Desktop/NLP/Final Materials/ethics/virtue/test_data.jsonl'\n",
    "\n",
    "# Apply the reformatting function\n",
    "reformat_to_single_line_json(train_file_path, train_output_path)"
   ]
  },
  {
   "cell_type": "markdown",
   "metadata": {},
   "source": [
    "### Test Hard"
   ]
  },
  {
   "cell_type": "code",
   "execution_count": 49,
   "metadata": {},
   "outputs": [],
   "source": [
    "def reformat_to_single_line_json(file_path, output_path):\n",
    "    \"\"\"\n",
    "    Reads a JSONL file, combines lines to form complete JSON objects, and writes each object as a single line.\n",
    "    \"\"\"\n",
    "    with open(file_path, 'r', encoding='utf-8') as infile, open(output_path, 'w', encoding='utf-8') as outfile:\n",
    "        complete_json = ''\n",
    "        brace_count = 0  # To track open and close braces\n",
    "        for line in infile:\n",
    "            stripped_line = line.strip()\n",
    "            complete_json += stripped_line\n",
    "            brace_count += stripped_line.count('{') - stripped_line.count('}')\n",
    "            if brace_count == 0 and complete_json:\n",
    "                # When brace_count is zero, we have a complete JSON object\n",
    "                outfile.write(complete_json + '\\n')\n",
    "                complete_json = ''  # Reset for the next JSON object\n",
    "\n",
    "# Paths for output files\n",
    "train_file_path = '/Users/jasperwang/Desktop/NLP/Final Materials/ethics/virtue/virtue_test_hard.jsonl'\n",
    "train_output_path = '/Users/jasperwang/Desktop/NLP/Final Materials/ethics/virtue/test_hard_data.jsonl'\n",
    "\n",
    "# Apply the reformatting function\n",
    "reformat_to_single_line_json(train_file_path, train_output_path)"
   ]
  },
  {
   "cell_type": "markdown",
   "metadata": {},
   "source": [
    "# Deontology"
   ]
  },
  {
   "cell_type": "markdown",
   "metadata": {},
   "source": [
    "## Transfer Data"
   ]
  },
  {
   "cell_type": "markdown",
   "metadata": {},
   "source": [
    "### Train Data"
   ]
  },
  {
   "cell_type": "code",
   "execution_count": 50,
   "metadata": {},
   "outputs": [
    {
     "name": "stdout",
     "output_type": "stream",
     "text": [
      "Conversion completed. JSONL file saved to /Users/jasperwang/Desktop/NLP/Final Materials/ethics/deontology/deontology_train.jsonl.\n"
     ]
    }
   ],
   "source": [
    "import pandas as pd\n",
    "import json\n",
    "\n",
    "# Path to the input CSV file\n",
    "input_csv_path = \"/Users/jasperwang/Desktop/NLP/Final Materials/ethics/deontology/deontology_train.csv\"  # Replace with your actual file path\n",
    "output_jsonl_path = \"/Users/jasperwang/Desktop/NLP/Final Materials/ethics/deontology/deontology_train.jsonl\"  # Desired output file\n",
    "\n",
    "# Load the CSV file\n",
    "df = pd.read_csv(input_csv_path)\n",
    "\n",
    "# Define the system message\n",
    "system_message = \"This model determines whether the excuse for a scenario is reasonable or not.\"\n",
    "\n",
    "# Create the JSONL data\n",
    "jsonl_data = []\n",
    "for _, row in df.iterrows():\n",
    "    scenario = row[\"scenario\"]  # Column name for the scenario\n",
    "    excuse = row[\"excuse\"]  # Column name for the excuse\n",
    "    label = str(row[\"label\"])  # Column name for the label (1 or 0)\n",
    "\n",
    "    entry = {\n",
    "        \"messages\": [\n",
    "            {\"role\": \"system\", \"content\": system_message},\n",
    "            {\"role\": \"user\", \"content\": f\"Scenario: {scenario} Excuse: {excuse}\"},\n",
    "            {\"role\": \"assistant\", \"content\": label}\n",
    "        ]\n",
    "    }\n",
    "    jsonl_data.append(entry)\n",
    "\n",
    "# Write the JSONL data to the output file\n",
    "with open(output_jsonl_path, 'w', encoding='utf-8') as jsonl_file:\n",
    "    for entry in jsonl_data:\n",
    "        jsonl_file.write(json.dumps(entry) + '\\n')\n",
    "\n",
    "print(f\"Conversion completed. JSONL file saved to {output_jsonl_path}.\")"
   ]
  },
  {
   "cell_type": "markdown",
   "metadata": {},
   "source": [
    "### Test Data"
   ]
  },
  {
   "cell_type": "code",
   "execution_count": 51,
   "metadata": {},
   "outputs": [
    {
     "name": "stdout",
     "output_type": "stream",
     "text": [
      "Conversion completed. JSONL file saved to /Users/jasperwang/Desktop/NLP/Final Materials/ethics/deontology/deontology_test.jsonl.\n"
     ]
    }
   ],
   "source": [
    "import pandas as pd\n",
    "import json\n",
    "\n",
    "# Path to the input CSV file\n",
    "input_csv_path = \"/Users/jasperwang/Desktop/NLP/Final Materials/ethics/deontology/deontology_test.csv\"  # Replace with your actual file path\n",
    "output_jsonl_path = \"/Users/jasperwang/Desktop/NLP/Final Materials/ethics/deontology/deontology_test.jsonl\"  # Desired output file\n",
    "\n",
    "# Load the CSV file\n",
    "df = pd.read_csv(input_csv_path)\n",
    "\n",
    "# Define the system message\n",
    "system_message = \"This model determines whether the excuse for a scenario is reasonable or not.\"\n",
    "\n",
    "# Create the JSONL data\n",
    "jsonl_data = []\n",
    "for _, row in df.iterrows():\n",
    "    scenario = row[\"scenario\"]  # Column name for the scenario\n",
    "    excuse = row[\"excuse\"]  # Column name for the excuse\n",
    "    label = str(row[\"label\"])  # Column name for the label (1 or 0)\n",
    "\n",
    "    entry = {\n",
    "        \"messages\": [\n",
    "            {\"role\": \"system\", \"content\": system_message},\n",
    "            {\"role\": \"user\", \"content\": f\"Scenario: {scenario} Excuse: {excuse}\"},\n",
    "            {\"role\": \"assistant\", \"content\": label}\n",
    "        ]\n",
    "    }\n",
    "    jsonl_data.append(entry)\n",
    "\n",
    "# Write the JSONL data to the output file\n",
    "with open(output_jsonl_path, 'w', encoding='utf-8') as jsonl_file:\n",
    "    for entry in jsonl_data:\n",
    "        jsonl_file.write(json.dumps(entry) + '\\n')\n",
    "\n",
    "print(f\"Conversion completed. JSONL file saved to {output_jsonl_path}.\")"
   ]
  },
  {
   "cell_type": "code",
   "execution_count": 52,
   "metadata": {},
   "outputs": [
    {
     "name": "stdout",
     "output_type": "stream",
     "text": [
      "Conversion completed. JSONL file saved to /Users/jasperwang/Desktop/NLP/Final Materials/ethics/deontology/deontology_test_hard.jsonl.\n"
     ]
    }
   ],
   "source": [
    "import pandas as pd\n",
    "import json\n",
    "\n",
    "# Path to the input CSV file\n",
    "input_csv_path = \"/Users/jasperwang/Desktop/NLP/Final Materials/ethics/deontology/deontology_test_hard.csv\"  # Replace with your actual file path\n",
    "output_jsonl_path = \"/Users/jasperwang/Desktop/NLP/Final Materials/ethics/deontology/deontology_test_hard.jsonl\"  # Desired output file\n",
    "\n",
    "# Load the CSV file\n",
    "df = pd.read_csv(input_csv_path)\n",
    "\n",
    "# Define the system message\n",
    "system_message = \"This model determines whether the excuse for a scenario is reasonable or not.\"\n",
    "\n",
    "# Create the JSONL data\n",
    "jsonl_data = []\n",
    "for _, row in df.iterrows():\n",
    "    scenario = row[\"scenario\"]  # Column name for the scenario\n",
    "    excuse = row[\"excuse\"]  # Column name for the excuse\n",
    "    label = str(row[\"label\"])  # Column name for the label (1 or 0)\n",
    "\n",
    "    entry = {\n",
    "        \"messages\": [\n",
    "            {\"role\": \"system\", \"content\": system_message},\n",
    "            {\"role\": \"user\", \"content\": f\"Scenario: {scenario} Excuse: {excuse}\"},\n",
    "            {\"role\": \"assistant\", \"content\": label}\n",
    "        ]\n",
    "    }\n",
    "    jsonl_data.append(entry)\n",
    "\n",
    "# Write the JSONL data to the output file\n",
    "with open(output_jsonl_path, 'w', encoding='utf-8') as jsonl_file:\n",
    "    for entry in jsonl_data:\n",
    "        jsonl_file.write(json.dumps(entry) + '\\n')\n",
    "\n",
    "print(f\"Conversion completed. JSONL file saved to {output_jsonl_path}.\")"
   ]
  },
  {
   "cell_type": "markdown",
   "metadata": {},
   "source": [
    "# Utilitarianism Data"
   ]
  },
  {
   "cell_type": "code",
   "execution_count": 55,
   "metadata": {},
   "outputs": [
    {
     "name": "stdout",
     "output_type": "stream",
     "text": [
      "Train dataset converted to /Users/jasperwang/Desktop/NLP/Final Materials/ethics/utilitarianism/util_train.jsonl\n",
      "Test dataset converted to /Users/jasperwang/Desktop/NLP/Final Materials/ethics/utilitarianism/util_test.jsonl\n",
      "Test dataset converted to /Users/jasperwang/Desktop/NLP/Final Materials/ethics/utilitarianism/util_test_hard.jsonl\n"
     ]
    }
   ],
   "source": [
    "import pandas as pd\n",
    "import random\n",
    "import json\n",
    "\n",
    "# File paths\n",
    "train_file_path = '/Users/jasperwang/Desktop/NLP/Final Materials/ethics/utilitarianism/util_train.csv'  # Replace with actual train dataset path\n",
    "test_file_path = '/Users/jasperwang/Desktop/NLP/Final Materials/ethics/utilitarianism/util_test.csv'    # Replace with actual test dataset path\n",
    "test_hard_file_path = '/Users/jasperwang/Desktop/NLP/Final Materials/ethics/utilitarianism/util_test_hard.csv'\n",
    "\n",
    "# Output files\n",
    "train_output_file = '/Users/jasperwang/Desktop/NLP/Final Materials/ethics/utilitarianism/util_train.jsonl'\n",
    "test_output_file = '/Users/jasperwang/Desktop/NLP/Final Materials/ethics/utilitarianism/util_test.jsonl'\n",
    "test_hard_output_file = '/Users/jasperwang/Desktop/NLP/Final Materials/ethics/utilitarianism/util_test_hard.jsonl'\n",
    "\n",
    "# Load datasets\n",
    "train_df = pd.read_csv(train_file_path, header=None)  # No header for train dataset\n",
    "test_df = pd.read_csv(test_file_path, header=None)  # No header for test dataset\n",
    "test_hard_df = pd.read_csv(test_file_path, header=None)\n",
    "\n",
    "# Randomize train dataset\n",
    "random.seed(42)  # Set seed for reproducibility\n",
    "train_jsonl_data = []\n",
    "\n",
    "for _, row in train_df.iterrows():\n",
    "    scenario_1 = row[0]  # First column\n",
    "    scenario_2 = row[1]  # Second column\n",
    "\n",
    "    # Randomly decide whether to switch\n",
    "    if random.random() > 0.5:  # 50% chance of switching\n",
    "        scenario_1, scenario_2 = scenario_2, scenario_1\n",
    "        label = 0  # The second scenario is more pleasant\n",
    "    else:\n",
    "        label = 1  # The first scenario is more pleasant\n",
    "\n",
    "    # Create JSONL entry\n",
    "    train_jsonl_data.append({\n",
    "        \"messages\": [\n",
    "            {\"role\": \"system\", \"content\": \"Rank the following scenarios by how pleasant they are.\"},\n",
    "            {\"role\": \"user\", \"content\": f\"Scenario 1: {scenario_1} VS Scenario 2: {scenario_2}\"},\n",
    "            {\"role\": \"assistant\", \"content\": f\"{label}\"}\n",
    "        ]\n",
    "    })\n",
    "\n",
    "# Save train JSONL file\n",
    "with open(train_output_file, 'w') as f:\n",
    "    for entry in train_jsonl_data:\n",
    "        f.write(json.dumps(entry) + '\\n')\n",
    "\n",
    "print(f\"Train dataset converted to {train_output_file}\")\n",
    "\n",
    "# Process test dataset\n",
    "test_jsonl_data = []\n",
    "\n",
    "for _, row in test_df.iterrows():\n",
    "    scenario_1 = row[0]  # First column\n",
    "    scenario_2 = row[1]  # Second column\n",
    "\n",
    "    # Test dataset always assumes \"The first scenario is more pleasant\" for evaluation purposes\n",
    "    test_jsonl_data.append({\n",
    "        \"messages\": [\n",
    "            {\"role\": \"system\", \"content\": \"Rank the following scenarios by how pleasant they are.\"},\n",
    "            {\"role\": \"user\", \"content\": f\"Scenario 1: {scenario_1} VS Scenario 2: {scenario_2}\"},\n",
    "            {\"role\": \"assistant\", \"content\": \"1\"}\n",
    "        ]\n",
    "    })\n",
    "\n",
    "# Save test JSONL file\n",
    "with open(test_output_file, 'w') as f:\n",
    "    for entry in test_jsonl_data:\n",
    "        f.write(json.dumps(entry) + '\\n')\n",
    "\n",
    "print(f\"Test dataset converted to {test_output_file}\")\n",
    "\n",
    "# Process test_hard dataset\n",
    "test_hard_jsonl_data = []\n",
    "\n",
    "for _, row in test_df.iterrows():\n",
    "    scenario_1 = row[0]  # First column\n",
    "    scenario_2 = row[1]  # Second column\n",
    "\n",
    "    # Test dataset always assumes \"The first scenario is more pleasant\" for evaluation purposes\n",
    "    test_hard_jsonl_data.append({\n",
    "        \"messages\": [\n",
    "            {\"role\": \"system\", \"content\": \"Rank the following scenarios by how pleasant they are.\"},\n",
    "            {\"role\": \"user\", \"content\": f\"Scenario 1: {scenario_1} VS Scenario 2: {scenario_2}\"},\n",
    "            {\"role\": \"assistant\", \"content\": \"1\"}\n",
    "        ]\n",
    "    })\n",
    "\n",
    "# Save test JSONL file\n",
    "with open(test_hard_output_file, 'w') as f:\n",
    "    for entry in test_jsonl_data:\n",
    "        f.write(json.dumps(entry) + '\\n')\n",
    "\n",
    "print(f\"Test dataset converted to {test_hard_output_file}\")"
   ]
  }
 ],
 "metadata": {
  "kernelspec": {
   "display_name": "Python 3",
   "language": "python",
   "name": "python3"
  },
  "language_info": {
   "codemirror_mode": {
    "name": "ipython",
    "version": 3
   },
   "file_extension": ".py",
   "mimetype": "text/x-python",
   "name": "python",
   "nbconvert_exporter": "python",
   "pygments_lexer": "ipython3",
   "version": "3.11.5"
  }
 },
 "nbformat": 4,
 "nbformat_minor": 2
}
